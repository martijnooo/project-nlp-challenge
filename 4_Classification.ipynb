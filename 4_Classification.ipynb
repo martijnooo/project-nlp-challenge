{
 "cells": [
  {
   "cell_type": "code",
   "execution_count": 1,
   "id": "44600324",
   "metadata": {},
   "outputs": [],
   "source": [
    "import numpy as np\n",
    "import pandas as pd\n",
    "from sklearn.linear_model import LogisticRegression\n",
    "from sklearn.svm import LinearSVC\n",
    "from sklearn.ensemble import GradientBoostingClassifier\n",
    "from sklearn.model_selection import train_test_split, GridSearchCV\n",
    "from sklearn.preprocessing import StandardScaler\n",
    "from sklearn.metrics import (\n",
    "    accuracy_score, confusion_matrix, precision_score, recall_score, classification_report\n",
    ")\n",
    "from sklearn.decomposition import PCA"
   ]
  },
  {
   "cell_type": "code",
   "execution_count": 2,
   "id": "10c16e51",
   "metadata": {},
   "outputs": [],
   "source": [
    "# -------------------------\n",
    "# Load data and embeddings\n",
    "# -------------------------\n",
    "df = pd.read_csv(\"dataset/2_data_clean.csv\")\n",
    "loaded_embeddings = np.load(\"dataset/3_embeddings.npy\")\n",
    "\n",
    "# -------------------------\n",
    "# Feature preparation\n",
    "# -------------------------\n",
    "scaler = StandardScaler()\n",
    "length_scaled = scaler.fit_transform(df[['combined_len']])\n",
    "\n",
    "# Combine features\n",
    "X = np.hstack((loaded_embeddings, length_scaled))\n",
    "y = df['label'].values\n",
    "\n",
    "# Split data\n",
    "X_train, X_test, y_train, y_test = train_test_split(X, y, test_size=0.2, random_state=42)"
   ]
  },
  {
   "cell_type": "code",
   "execution_count": 3,
   "id": "2baf9a45",
   "metadata": {},
   "outputs": [],
   "source": [
    "# -------------------------\n",
    "# Helper functions\n",
    "# -------------------------\n",
    "def train_grid_search(model, param_grid, X_train, y_train, scoring=\"f1_macro\", cv=5):\n",
    "    \"\"\"Perform GridSearchCV for a given model and parameters.\"\"\"\n",
    "    grid = GridSearchCV(model, param_grid, cv=cv, scoring=scoring, n_jobs=-1)\n",
    "    grid.fit(X_train, y_train)\n",
    "    print(f\"Best parameters: {grid.best_params_}\")\n",
    "    print(f\"Best CV score: {grid.best_score_:.4f}\")\n",
    "    return grid\n",
    "\n",
    "def evaluate_model(model, X_test, y_test):\n",
    "    \"\"\"Evaluate model and print metrics.\"\"\"\n",
    "    pred = model.predict(X_test)\n",
    "    print(\"Accuracy:\", accuracy_score(y_test, pred))\n",
    "    print(\"Confusion Matrix:\\n\", confusion_matrix(y_test, pred))\n",
    "    print(\"Precision:\", precision_score(y_test, pred))\n",
    "    print(\"Recall:\", recall_score(y_test, pred))\n",
    "    print(\"Classification Report:\\n\", classification_report(y_test, pred))"
   ]
  },
  {
   "cell_type": "code",
   "execution_count": 4,
   "id": "7030e868",
   "metadata": {},
   "outputs": [
    {
     "name": "stdout",
     "output_type": "stream",
     "text": [
      "Best parameters: {'C': 1, 'penalty': 'l1', 'solver': 'liblinear'}\n",
      "Best CV score: 0.9550\n",
      "Accuracy: 0.9556890724746526\n",
      "Confusion Matrix:\n",
      " [[3801  195]\n",
      " [ 159 3834]]\n",
      "Precision: 0.9516008935219658\n",
      "Recall: 0.9601803155522164\n",
      "Classification Report:\n",
      "               precision    recall  f1-score   support\n",
      "\n",
      "           0       0.96      0.95      0.96      3996\n",
      "           1       0.95      0.96      0.96      3993\n",
      "\n",
      "    accuracy                           0.96      7989\n",
      "   macro avg       0.96      0.96      0.96      7989\n",
      "weighted avg       0.96      0.96      0.96      7989\n",
      "\n"
     ]
    }
   ],
   "source": [
    "# -------------------------\n",
    "# Logistic Regression\n",
    "# -------------------------\n",
    "log = LogisticRegression(max_iter=1000)\n",
    "param_grid_logreg = {\n",
    "    \"C\": [0.01, 0.1, 1],\n",
    "    \"penalty\": [\"l1\", \"l2\"],\n",
    "    \"solver\": [\"liblinear\", \"saga\"]\n",
    "}\n",
    "log_model = train_grid_search(log, param_grid_logreg, X_train, y_train)\n",
    "evaluate_model(log_model, X_test, y_test)"
   ]
  },
  {
   "cell_type": "code",
   "execution_count": 5,
   "id": "bb152539",
   "metadata": {},
   "outputs": [
    {
     "name": "stdout",
     "output_type": "stream",
     "text": [
      "Best parameters: {'C': 100, 'loss': 'squared_hinge'}\n",
      "Best CV score: 0.9600\n",
      "Accuracy: 0.9624483665039429\n",
      "Confusion Matrix:\n",
      " [[3832  164]\n",
      " [ 136 3857]]\n",
      "Precision: 0.9592141258393434\n",
      "Recall: 0.9659403956924618\n",
      "Classification Report:\n",
      "               precision    recall  f1-score   support\n",
      "\n",
      "           0       0.97      0.96      0.96      3996\n",
      "           1       0.96      0.97      0.96      3993\n",
      "\n",
      "    accuracy                           0.96      7989\n",
      "   macro avg       0.96      0.96      0.96      7989\n",
      "weighted avg       0.96      0.96      0.96      7989\n",
      "\n"
     ]
    }
   ],
   "source": [
    "# -------------------------\n",
    "# Linear SVM\n",
    "# -------------------------\n",
    "svm = LinearSVC(max_iter=2000)\n",
    "param_grid_svm = {\n",
    "    \"C\": [0.01, 0.1, 1, 10, 100],\n",
    "    \"loss\": [\"hinge\", \"squared_hinge\"]\n",
    "}\n",
    "svm_model = train_grid_search(svm, param_grid_svm, X_train, y_train)\n",
    "evaluate_model(svm_model, X_test, y_test)"
   ]
  },
  {
   "cell_type": "code",
   "execution_count": 6,
   "id": "cea45c00",
   "metadata": {},
   "outputs": [
    {
     "name": "stdout",
     "output_type": "stream",
     "text": [
      "Accuracy: 0.8904744023031669\n",
      "Confusion Matrix:\n",
      " [[3587  409]\n",
      " [ 466 3527]]\n",
      "Precision: 0.8960873983739838\n",
      "Recall: 0.8832957675932882\n",
      "Classification Report:\n",
      "               precision    recall  f1-score   support\n",
      "\n",
      "           0       0.89      0.90      0.89      3996\n",
      "           1       0.90      0.88      0.89      3993\n",
      "\n",
      "    accuracy                           0.89      7989\n",
      "   macro avg       0.89      0.89      0.89      7989\n",
      "weighted avg       0.89      0.89      0.89      7989\n",
      "\n"
     ]
    }
   ],
   "source": [
    "# -------------------------\n",
    "# Gradient Boosting with PCA\n",
    "# -------------------------\n",
    "pca = PCA(n_components=100, random_state=42)\n",
    "X_train_pca = pca.fit_transform(X_train)\n",
    "X_test_pca = pca.transform(X_test)\n",
    "\n",
    "gb_model = GradientBoostingClassifier(random_state=42)\n",
    "gb_model.fit(X_train_pca, y_train)\n",
    "evaluate_model(gb_model, X_test_pca, y_test)"
   ]
  }
 ],
 "metadata": {
  "kernelspec": {
   "display_name": "venv (3.12.3)",
   "language": "python",
   "name": "python3"
  },
  "language_info": {
   "codemirror_mode": {
    "name": "ipython",
    "version": 3
   },
   "file_extension": ".py",
   "mimetype": "text/x-python",
   "name": "python",
   "nbconvert_exporter": "python",
   "pygments_lexer": "ipython3",
   "version": "3.12.3"
  }
 },
 "nbformat": 4,
 "nbformat_minor": 5
}
