{
 "cells": [
  {
   "cell_type": "code",
   "execution_count": 1,
   "id": "c399ef09",
   "metadata": {},
   "outputs": [
    {
     "name": "stderr",
     "output_type": "stream",
     "text": [
      "c:\\Programming\\Ironhack\\venv\\Lib\\site-packages\\tqdm\\auto.py:21: TqdmWarning: IProgress not found. Please update jupyter and ipywidgets. See https://ipywidgets.readthedocs.io/en/stable/user_install.html\n",
      "  from .autonotebook import tqdm as notebook_tqdm\n"
     ]
    }
   ],
   "source": [
    "from sentence_transformers import SentenceTransformer\n",
    "import pandas as pd\n",
    "import numpy as np"
   ]
  },
  {
   "cell_type": "code",
   "execution_count": null,
   "id": "1b99fcc7",
   "metadata": {},
   "outputs": [],
   "source": [
    "df = pd.read_csv(\"dataset/2_data_clean.csv\")"
   ]
  },
  {
   "cell_type": "code",
   "execution_count": null,
   "id": "ce1613c5",
   "metadata": {},
   "outputs": [
    {
     "name": "stdout",
     "output_type": "stream",
     "text": [
      "(384,)\n"
     ]
    }
   ],
   "source": [
    "# Load your model once\n",
    "model = SentenceTransformer('all-MiniLM-L6-v2')  # or any other SentenceTransformer model\n",
    "\n",
    "def embed_long_text(text, model, max_tokens=512, stride=256):\n",
    "    \"\"\"\n",
    "    Embed a long text using chunking and averaging embeddings.\n",
    "\n",
    "    Args:\n",
    "        text (str): the input text\n",
    "        model (SentenceTransformer): pre-loaded transformer model\n",
    "        max_tokens (int): max tokens per chunk\n",
    "        stride (int): overlap between chunks\n",
    "\n",
    "    Returns:\n",
    "        np.ndarray: averaged embedding vector\n",
    "    \"\"\"\n",
    "    # Simple whitespace tokenization to split into tokens\n",
    "    tokens = text.split()\n",
    "    embeddings = []\n",
    "\n",
    "    # Generate chunks with stride\n",
    "    start = 0\n",
    "    while start < len(tokens):\n",
    "        end = min(start + max_tokens, len(tokens))\n",
    "        chunk_tokens = tokens[start:end]\n",
    "        chunk_text = \" \".join(chunk_tokens)\n",
    "\n",
    "        # Get embedding for the chunk\n",
    "        chunk_embedding = model.encode(chunk_text)\n",
    "        embeddings.append(chunk_embedding)\n",
    "\n",
    "        # Move start by stride\n",
    "        start += stride\n",
    "\n",
    "        # Stop if we reached the end\n",
    "        if end == len(tokens):\n",
    "            break\n",
    "\n",
    "    # Average all chunk embeddings\n",
    "    avg_embedding = np.mean(embeddings, axis=0)\n",
    "    return avg_embedding"
   ]
  },
  {
   "cell_type": "code",
   "execution_count": null,
   "id": "4e8debce",
   "metadata": {},
   "outputs": [
    {
     "name": "stderr",
     "output_type": "stream",
     "text": [
      "Embedding articles: 100%|██████████| 39942/39942 [41:12<00:00, 16.15it/s]  "
     ]
    },
    {
     "name": "stdout",
     "output_type": "stream",
     "text": [
      "Shape of embeddings array: (39942, 384)\n"
     ]
    },
    {
     "name": "stderr",
     "output_type": "stream",
     "text": [
      "\n"
     ]
    }
   ],
   "source": [
    "from tqdm import tqdm  # nice progress bar\n",
    "# Create a placeholder for embeddings\n",
    "embeddings_list = []\n",
    "\n",
    "# Loop through all rows with a progress bar\n",
    "for text in tqdm(df['combined'], desc=\"Embedding articles\"):\n",
    "    embedding_vector = embed_long_text(text, model, max_tokens=512, stride=256)\n",
    "    embeddings_list.append(embedding_vector)\n",
    "\n",
    "# Convert list of embeddings to a NumPy array\n",
    "embeddings_array = np.vstack(embeddings_list)\n",
    "\n",
    "print(\"Shape of embeddings array:\", embeddings_array.shape)"
   ]
  },
  {
   "cell_type": "code",
   "execution_count": null,
   "id": "c6e70615",
   "metadata": {},
   "outputs": [],
   "source": [
    "# embeddings_array from previous step saved\n",
    "np.save(\"dataset/3_embeddings.npy\", embeddings_array)"
   ]
  }
 ],
 "metadata": {
  "kernelspec": {
   "display_name": "venv (3.12.7)",
   "language": "python",
   "name": "python3"
  },
  "language_info": {
   "codemirror_mode": {
    "name": "ipython",
    "version": 3
   },
   "file_extension": ".py",
   "mimetype": "text/x-python",
   "name": "python",
   "nbconvert_exporter": "python",
   "pygments_lexer": "ipython3",
   "version": "3.12.3"
  }
 },
 "nbformat": 4,
 "nbformat_minor": 5
}
