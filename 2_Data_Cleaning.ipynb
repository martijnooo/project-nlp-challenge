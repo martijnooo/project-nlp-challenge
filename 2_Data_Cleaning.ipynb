{
 "cells": [
  {
   "cell_type": "code",
   "execution_count": 1,
   "id": "e7f427df",
   "metadata": {},
   "outputs": [],
   "source": [
    "import re\n",
    "import pandas as pd\n",
    "import numpy as np\n"
   ]
  },
  {
   "cell_type": "code",
   "execution_count": 2,
   "id": "20495235",
   "metadata": {},
   "outputs": [],
   "source": [
    "df = pd.read_csv(\"dataset/data.csv\")"
   ]
  },
  {
   "cell_type": "code",
   "execution_count": null,
   "id": "171ab210",
   "metadata": {},
   "outputs": [
    {
     "name": "stdout",
     "output_type": "stream",
     "text": [
      "0    As U.S. budget fight looms, Republicans flip t...\n",
      "1    U.S. military to accept transgender recruits o...\n",
      "2    Senior U.S. Republican senator: 'Let Mr. Muell...\n",
      "3    FBI Russia probe helped by Australian diplomat...\n",
      "4    Trump wants Postal Service to charge 'much mor...\n",
      "Name: combined_clean, dtype: object\n"
     ]
    }
   ],
   "source": [
    "# Define regex patterns for common boilerplate\n",
    "start_patterns = [\n",
    "    r\"^text\\s*\",  # the 'text' placeholder\n",
    "    r\"^WASHINGTON \\(Reuters\\) -.*? - \",  # multiple variants\n",
    "    r\"^LONDON \\(Reuters\\) -.*? - \",\n",
    "]\n",
    "end_patterns = [\n",
    "    r\"text\\s*$\",  # ending 'text'\n",
    "    r\"-- Source link:.*$\",  # source links\n",
    "    r\"ntly produced by the staff of Reuters News Agency\\.*$\",\n",
    "    r\"Featured image.*$\",\n",
    "]\n",
    "\n",
    "# Function to clean text based on patterns\n",
    "def clean_text(text):\n",
    "    for pat in start_patterns:\n",
    "        text = re.sub(pat, \"\", text, flags=re.IGNORECASE)\n",
    "    for pat in end_patterns:\n",
    "        text = re.sub(pat, \"\", text, flags=re.IGNORECASE)\n",
    "    # Normalize whitespace\n",
    "    text = re.sub(r\"\\s+\", \" \", text).strip()\n",
    "    return text\n",
    "\n",
    "df['combined'] = df['title'] + \" \" + df['text']\n",
    "# Apply cleaning\n",
    "df['combined_clean'] = df['combined'].apply(clean_text)\n",
    "\n",
    "# Check results\n",
    "print(df['combined_clean'].head())\n"
   ]
  },
  {
   "cell_type": "code",
   "execution_count": null,
   "id": "33bdbaa8",
   "metadata": {},
   "outputs": [],
   "source": [
    "df['combined_len'] = (df['title'] + \" \" + df['text']).str.len()"
   ]
  },
  {
   "cell_type": "code",
   "execution_count": null,
   "id": "15cda61a",
   "metadata": {},
   "outputs": [],
   "source": [
    "#store cleaned df\n",
    "df.to_csv(\"dataset/2_data_clean.csv\")"
   ]
  }
 ],
 "metadata": {
  "kernelspec": {
   "display_name": "venv (3.12.7)",
   "language": "python",
   "name": "python3"
  },
  "language_info": {
   "codemirror_mode": {
    "name": "ipython",
    "version": 3
   },
   "file_extension": ".py",
   "mimetype": "text/x-python",
   "name": "python",
   "nbconvert_exporter": "python",
   "pygments_lexer": "ipython3",
   "version": "3.12.7"
  }
 },
 "nbformat": 4,
 "nbformat_minor": 5
}
